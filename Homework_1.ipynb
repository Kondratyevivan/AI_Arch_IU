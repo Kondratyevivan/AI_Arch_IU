{
  "nbformat": 4,
  "nbformat_minor": 0,
  "metadata": {
    "colab": {
      "provenance": [],
      "authorship_tag": "ABX9TyOvwrY/lwwx6SR87OQVlWdd"
    },
    "kernelspec": {
      "name": "python3",
      "display_name": "Python 3"
    },
    "language_info": {
      "name": "python"
    }
  },
  "cells": [
    {
      "cell_type": "code",
      "execution_count": null,
      "metadata": {
        "colab": {
          "base_uri": "https://localhost:8080/"
        },
        "id": "2jOHNGY5U1gy",
        "outputId": "d78916b6-e30e-4f57-c51a-f0157fe6fbd8"
      },
      "outputs": [
        {
          "output_type": "stream",
          "name": "stdout",
          "text": [
            "MATRIX A = \n",
            " [[ 6 -8  3]]\n",
            "MATRIX B =\n",
            " [[1]\n",
            " [1]\n",
            " [4]]\n",
            "A*B =\n",
            " [[10]]\n"
          ]
        }
      ],
      "source": [
        "#@title Задание 1\n",
        "import numpy as np\n",
        "A = np.mat ([6,-8,3])\n",
        "B = np.mat([[1],\n",
        "            [1],\n",
        "            [4]])\n",
        "print('MATRIX A = \\n',A)\n",
        "print('MATRIX B =\\n',B)\n",
        "C = A@B\n",
        "print('A*B =\\n',C)"
      ]
    },
    {
      "cell_type": "code",
      "source": [
        "#@title Задание 2\n",
        "import numpy as np\n",
        "A = np.mat ([[-3,-7],[-10,6],[0,-6],[-1,-3]])\n",
        "B = np.mat([[-8,9],[4,-2]])\n",
        "print('MATRIX A = \\n',A)\n",
        "print('MATRIX B =\\n',B)\n",
        "C = A@B\n",
        "print('A*B =\\n',C)"
      ],
      "metadata": {
        "colab": {
          "base_uri": "https://localhost:8080/"
        },
        "cellView": "form",
        "id": "pUHgF6JnX-3X",
        "outputId": "6b718987-8347-4d57-a08e-6f81cf34c0dd"
      },
      "execution_count": null,
      "outputs": [
        {
          "output_type": "stream",
          "name": "stdout",
          "text": [
            "MATRIX A = \n",
            " [[ -3  -7]\n",
            " [-10   6]\n",
            " [  0  -6]\n",
            " [ -1  -3]]\n",
            "MATRIX B =\n",
            " [[-8  9]\n",
            " [ 4 -2]]\n",
            "A*B =\n",
            " [[  -4  -13]\n",
            " [ 104 -102]\n",
            " [ -24   12]\n",
            " [  -4   -3]]\n"
          ]
        }
      ]
    }
  ]
}