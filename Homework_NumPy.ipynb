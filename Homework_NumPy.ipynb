{
  "nbformat": 4,
  "nbformat_minor": 0,
  "metadata": {
    "colab": {
      "provenance": []
    },
    "kernelspec": {
      "name": "python3",
      "display_name": "Python 3"
    },
    "language_info": {
      "name": "python"
    }
  },
  "cells": [
    {
      "cell_type": "code",
      "execution_count": null,
      "metadata": {
        "id": "6exua5jEd3OB"
      },
      "outputs": [],
      "source": [
        "import numpy as np"
      ]
    },
    {
      "cell_type": "markdown",
      "source": [
        "Task 1"
      ],
      "metadata": {
        "id": "2nD5c7OHd__d"
      }
    },
    {
      "cell_type": "code",
      "source": [
        "A = np.array([[1,2,1],[-2,1,1]])\n",
        "B = np.array([[3,1],[-1,0],[2,4]])\n",
        "C = np.array([[-2,2],[1,-1],[1,2]])\n",
        "#Пробуем сложить матрицы разной размерности с обработкой исключений\n",
        "try:\n",
        "  answer_1 = A+B*2\n",
        "except ValueError:\n",
        "  print(\"Размерности матриц не совпадают, сложение невозможно\")\n",
        "print('Поскольку матрицы имеют разные размерности, транспонируем матрицу A')\n",
        "print('A.T+2B =')\n",
        "answer_1 = A.T+B*2\n",
        "print(answer_1)\n",
        "answer_2 = B+C*2\n",
        "print('B+2C =')\n",
        "print(answer_2)"
      ],
      "metadata": {
        "colab": {
          "base_uri": "https://localhost:8080/"
        },
        "id": "lM13bBEbeDEy",
        "outputId": "98d0fd39-30dc-4901-b7fa-80f18161bce6"
      },
      "execution_count": null,
      "outputs": [
        {
          "output_type": "stream",
          "name": "stdout",
          "text": [
            "Размерности матриц не совпадают, сложение невозможно\n",
            "Поскольку матрицы имеют разные размерности, транспонируем матрицу A\n",
            "A.T+2B =\n",
            "[[7 0]\n",
            " [0 1]\n",
            " [5 9]]\n",
            "B+2C =\n",
            "[[-1  5]\n",
            " [ 1 -2]\n",
            " [ 4  8]]\n"
          ]
        }
      ]
    },
    {
      "cell_type": "markdown",
      "source": [
        "Task 2"
      ],
      "metadata": {
        "id": "hV3ogYjojPfY"
      }
    },
    {
      "cell_type": "code",
      "source": [
        "zeroes_matrix = np.zeros((8,8), dtype=int)\n",
        "zeroes_matrix[1::2,::2] = 1\n",
        "zeroes_matrix[::2,1::2] = 1\n",
        "zeroes_matrix"
      ],
      "metadata": {
        "colab": {
          "base_uri": "https://localhost:8080/"
        },
        "id": "k6Myr1tejRlh",
        "outputId": "09fdb816-1927-4d40-c8c2-79ebd7fcf01b"
      },
      "execution_count": null,
      "outputs": [
        {
          "output_type": "execute_result",
          "data": {
            "text/plain": [
              "array([[0, 1, 0, 1, 0, 1, 0, 1],\n",
              "       [1, 0, 1, 0, 1, 0, 1, 0],\n",
              "       [0, 1, 0, 1, 0, 1, 0, 1],\n",
              "       [1, 0, 1, 0, 1, 0, 1, 0],\n",
              "       [0, 1, 0, 1, 0, 1, 0, 1],\n",
              "       [1, 0, 1, 0, 1, 0, 1, 0],\n",
              "       [0, 1, 0, 1, 0, 1, 0, 1],\n",
              "       [1, 0, 1, 0, 1, 0, 1, 0]])"
            ]
          },
          "metadata": {},
          "execution_count": 47
        }
      ]
    },
    {
      "cell_type": "markdown",
      "source": [
        "Task 3"
      ],
      "metadata": {
        "id": "p03VaeatmzMn"
      }
    },
    {
      "cell_type": "code",
      "source": [
        "vect1 = np.linspace(0.0, 1.4, num=15, endpoint=True)\n",
        "#Также можно через arange, тогда было бы np.arange(0.0, 1.4+0.1, 0.1), прибавляем к последнему элементу шаг для  включения его в вектор\n",
        "print(\"Вектор длиной 15 элементов созначениями от 0 до 1,4 с шагом 0,1:\")\n",
        "print(vect1)\n",
        "vect2 = np.linspace(1, 6, num=6, endpoint=True)\n",
        "#Также можно через arange, тогда было бы np.arange(1, 6+1, 1), прибавляем к последнему элементу шаг для  включения его в вектор\n",
        "print(\"Вектор длиной 6 элементов созначениями от 1 до 6 с шагом 1:\")\n",
        "print(vect2)\n",
        "matrix_1 = vect1.reshape(5,3)\n",
        "print(\"Преобразуем первый вектор в матрицу 5х3:\")\n",
        "print(matrix_1)\n",
        "matrix_2 = vect2.reshape(3,2)\n",
        "print(\"Преобразуем второй вектор в матрицу 3х2:\")\n",
        "print(matrix_2)\n",
        "matrix_mul = np.matmul(matrix_1,matrix_2)\n",
        "print(\"Результат умножения полученных матриц:\")\n",
        "print(matrix_mul)\n",
        "matrix_mu = np.dot(matrix_1,matrix_2)\n",
        "print(\"Результат умножения полученных матриц:\")\n",
        "print(matrix_mu)\n"
      ],
      "metadata": {
        "colab": {
          "base_uri": "https://localhost:8080/"
        },
        "id": "oPyCc_1GiMq9",
        "outputId": "ab4876c5-9aad-4cb5-8499-00bde0f1667d"
      },
      "execution_count": null,
      "outputs": [
        {
          "output_type": "stream",
          "name": "stdout",
          "text": [
            "Вектор длиной 15 элементов созначениями от 0 до 1,4 с шагом 0,1:\n",
            "[0.  0.1 0.2 0.3 0.4 0.5 0.6 0.7 0.8 0.9 1.  1.1 1.2 1.3 1.4]\n",
            "Вектор длиной 6 элементов созначениями от 1 до 6 с шагом 1:\n",
            "[1. 2. 3. 4. 5. 6.]\n",
            "Преобразуем первый вектор в матрицу 5х3:\n",
            "[[0.  0.1 0.2]\n",
            " [0.3 0.4 0.5]\n",
            " [0.6 0.7 0.8]\n",
            " [0.9 1.  1.1]\n",
            " [1.2 1.3 1.4]]\n",
            "Преобразуем второй вектор в матрицу 3х2:\n",
            "[[1. 2.]\n",
            " [3. 4.]\n",
            " [5. 6.]]\n",
            "Результат умножения полученных матриц:\n",
            "[[ 1.3  1.6]\n",
            " [ 4.   5.2]\n",
            " [ 6.7  8.8]\n",
            " [ 9.4 12.4]\n",
            " [12.1 16. ]]\n",
            "Результат умножения полученных матриц:\n",
            "[[ 1.3  1.6]\n",
            " [ 4.   5.2]\n",
            " [ 6.7  8.8]\n",
            " [ 9.4 12.4]\n",
            " [12.1 16. ]]\n"
          ]
        }
      ]
    },
    {
      "cell_type": "markdown",
      "source": [
        "Task 4"
      ],
      "metadata": {
        "id": "0iuf8f0Pv0Yd"
      }
    },
    {
      "cell_type": "code",
      "source": [
        "#Как создать вектор неопределенной длины через numpy, к сожалению, не додумался\n",
        "k=1\n",
        "list = [1]\n",
        "for i in range(35):\n",
        "  k=k+2\n",
        "  list.append(k)\n",
        "vect = np.array(list,dtype=int)\n",
        "print('Вектор из 36 целых чисел, начиная с 1, каждое последующее на 2 больше предыдущего:')\n",
        "print(vect)\n",
        "split = vect[1::3]\n",
        "print('Вектор из элементов первого вектора, которые кратны 3:')\n",
        "print(split)"
      ],
      "metadata": {
        "colab": {
          "base_uri": "https://localhost:8080/"
        },
        "id": "HP0IL7rwn-MM",
        "outputId": "e55b6038-eb7c-465b-aeca-48041f3d8c4a"
      },
      "execution_count": null,
      "outputs": [
        {
          "output_type": "stream",
          "name": "stdout",
          "text": [
            "Вектор из 36 целых чисел, начиная с 1, каждое последующее на 2 больше предыдущего:\n",
            "[ 1  3  5  7  9 11 13 15 17 19 21 23 25 27 29 31 33 35 37 39 41 43 45 47\n",
            " 49 51 53 55 57 59 61 63 65 67 69 71]\n",
            "Вектор из элементов первого вектора, которые кратны 3:\n",
            "[ 3  9 15 21 27 33 39 45 51 57 63 69]\n"
          ]
        }
      ]
    },
    {
      "cell_type": "code",
      "source": [],
      "metadata": {
        "id": "T8NMoIHHxHXg"
      },
      "execution_count": null,
      "outputs": []
    }
  ]
}